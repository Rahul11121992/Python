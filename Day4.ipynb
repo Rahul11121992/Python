{
 "cells": [
  {
   "cell_type": "code",
   "execution_count": null,
   "metadata": {},
   "outputs": [],
   "source": [
    "intro to lidt in data type:"
   ]
  },
  {
   "cell_type": "code",
   "execution_count": 1,
   "metadata": {},
   "outputs": [
    {
     "name": "stdout",
     "output_type": "stream",
     "text": [
      "['rahul', 'ashish', 'manoj', 'ashok', 'ramya']\n"
     ]
    }
   ],
   "source": [
    "my_student =['rahul','ashish','manoj','ashok','ramya']\n",
    "print (my_student)"
   ]
  },
  {
   "cell_type": "code",
   "execution_count": 10,
   "metadata": {},
   "outputs": [
    {
     "data": {
      "text/plain": [
       "list"
      ]
     },
     "execution_count": 10,
     "metadata": {},
     "output_type": "execute_result"
    }
   ],
   "source": [
    "type(my_student)\n"
   ]
  },
  {
   "cell_type": "code",
   "execution_count": 9,
   "metadata": {},
   "outputs": [
    {
     "name": "stdout",
     "output_type": "stream",
     "text": [
      "['rahul', 'ashish', 'manoj', 'ashok', 'ramya']\n"
     ]
    }
   ],
   "source": [
    "print (my_student)"
   ]
  },
  {
   "cell_type": "code",
   "execution_count": null,
   "metadata": {},
   "outputs": [],
   "source": [
    "indexing :"
   ]
  },
  {
   "cell_type": "code",
   "execution_count": 3,
   "metadata": {},
   "outputs": [
    {
     "name": "stdout",
     "output_type": "stream",
     "text": [
      "manoj\n"
     ]
    }
   ],
   "source": [
    "my_student =['rahul','ashish','manoj','ashok','ramya']\n",
    "print (my_student[2])"
   ]
  },
  {
   "cell_type": "code",
   "execution_count": null,
   "metadata": {},
   "outputs": [],
   "source": [
    "-ve indexing:"
   ]
  },
  {
   "cell_type": "code",
   "execution_count": 11,
   "metadata": {},
   "outputs": [
    {
     "name": "stdout",
     "output_type": "stream",
     "text": [
      "ashok\n"
     ]
    }
   ],
   "source": [
    "my_student =['rahul','ashish','manoj','ashok','ramya']\n",
    "print (my_student[-2])"
   ]
  },
  {
   "cell_type": "code",
   "execution_count": null,
   "metadata": {},
   "outputs": [],
   "source": [
    "reassigning the value:"
   ]
  },
  {
   "cell_type": "code",
   "execution_count": 13,
   "metadata": {},
   "outputs": [
    {
     "name": "stdout",
     "output_type": "stream",
     "text": [
      "['rahul', 'ashish', 'manoj', 'ashok', 'ramya']\n"
     ]
    }
   ],
   "source": [
    "my_student =['rahul','ashish','manoj','ashok','ramya']\n",
    "print (my_student)"
   ]
  },
  {
   "cell_type": "code",
   "execution_count": 15,
   "metadata": {},
   "outputs": [
    {
     "name": "stdout",
     "output_type": "stream",
     "text": [
      "['rahul', 'ashish', 'Ramana', 'ashok', 'ramya']\n"
     ]
    }
   ],
   "source": [
    "my_student[2] ='Ramana'\n",
    "print (my_student)"
   ]
  },
  {
   "cell_type": "code",
   "execution_count": null,
   "metadata": {},
   "outputs": [],
   "source": [
    "add:"
   ]
  },
  {
   "cell_type": "code",
   "execution_count": 16,
   "metadata": {},
   "outputs": [
    {
     "name": "stdout",
     "output_type": "stream",
     "text": [
      "['rahul', 'ashish', 'Ramana', 'ashok', 'ramya']\n"
     ]
    }
   ],
   "source": [
    "my_student =['rahul', 'ashish', 'Ramana', 'ashok', 'ramya']\n",
    "print (my_student)"
   ]
  },
  {
   "cell_type": "code",
   "execution_count": null,
   "metadata": {},
   "outputs": [],
   "source": [
    "append:"
   ]
  },
  {
   "cell_type": "code",
   "execution_count": 32,
   "metadata": {},
   "outputs": [
    {
     "name": "stdout",
     "output_type": "stream",
     "text": [
      "['rahul', 'ashish', 'Ramana', 'ashok', 'ramya', 'Daksh']\n"
     ]
    }
   ],
   "source": [
    "my_student.append ('Daksh')\n",
    "print (my_student)\n"
   ]
  },
  {
   "cell_type": "code",
   "execution_count": null,
   "metadata": {},
   "outputs": [],
   "source": [
    "insert:"
   ]
  },
  {
   "cell_type": "code",
   "execution_count": 35,
   "metadata": {},
   "outputs": [
    {
     "name": "stdout",
     "output_type": "stream",
     "text": [
      "['rahul', 'ashish', 'Kishore', 'Kishore', 'Ramana', 'ashok', 'ramya', 'Daksh']\n"
     ]
    }
   ],
   "source": [
    "my_student.insert(2,'Kishore')\n",
    "print (my_student)"
   ]
  },
  {
   "cell_type": "code",
   "execution_count": 42,
   "metadata": {},
   "outputs": [
    {
     "name": "stdout",
     "output_type": "stream",
     "text": [
      "['rahul', 'ashish', 'Hero', 'Kishore', 'Kishore', 'Ramana', 'ashok', 'ramya', 'Daksh']\n"
     ]
    }
   ],
   "source": [
    "my_student.insert(2,'Hero')\n",
    "print (my_student)"
   ]
  },
  {
   "cell_type": "code",
   "execution_count": null,
   "metadata": {},
   "outputs": [],
   "source": [
    "delete:"
   ]
  },
  {
   "cell_type": "code",
   "execution_count": 36,
   "metadata": {},
   "outputs": [
    {
     "name": "stdout",
     "output_type": "stream",
     "text": [
      "['rahul', 'ashish', 'Kishore', 'Kishore', 'Ramana', 'ashok', 'ramya', 'Daksh']\n"
     ]
    }
   ],
   "source": [
    "my_student = ['rahul', 'ashish', 'Kishore', 'Kishore', 'Ramana', 'ashok', 'ramya', 'Daksh']\n",
    "print (my_student)"
   ]
  },
  {
   "cell_type": "code",
   "execution_count": 37,
   "metadata": {},
   "outputs": [
    {
     "name": "stdout",
     "output_type": "stream",
     "text": [
      "['rahul', 'ashish', 'Kishore', 'Ramana', 'ashok', 'ramya', 'Daksh']\n"
     ]
    }
   ],
   "source": [
    "del my_student[3]\n",
    "print (my_student)"
   ]
  },
  {
   "cell_type": "code",
   "execution_count": null,
   "metadata": {},
   "outputs": [],
   "source": [
    "pop: "
   ]
  },
  {
   "cell_type": "code",
   "execution_count": 44,
   "metadata": {},
   "outputs": [
    {
     "name": "stdout",
     "output_type": "stream",
     "text": [
      "['rahul', 'ashish', 'Hero', 'Kishore', 'Kishore', 'Ramana', 'ashok']\n"
     ]
    }
   ],
   "source": [
    "my_student.pop ()\n",
    "print (my_student)"
   ]
  },
  {
   "cell_type": "code",
   "execution_count": 45,
   "metadata": {},
   "outputs": [
    {
     "name": "stdout",
     "output_type": "stream",
     "text": [
      "['rahul', 'ashish', 'Kishore', 'Kishore', 'Ramana', 'ashok']\n"
     ]
    }
   ],
   "source": [
    "my_student.pop(2)\n",
    "print (my_student)"
   ]
  },
  {
   "cell_type": "code",
   "execution_count": null,
   "metadata": {},
   "outputs": [],
   "source": []
  }
 ],
 "metadata": {
  "kernelspec": {
   "display_name": "Python 3",
   "language": "python",
   "name": "python3"
  },
  "language_info": {
   "codemirror_mode": {
    "name": "ipython",
    "version": 3
   },
   "file_extension": ".py",
   "mimetype": "text/x-python",
   "name": "python",
   "nbconvert_exporter": "python",
   "pygments_lexer": "ipython3",
   "version": "3.7.6"
  }
 },
 "nbformat": 4,
 "nbformat_minor": 4
}
